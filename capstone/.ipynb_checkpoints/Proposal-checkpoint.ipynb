{
 "cells": [
  {
   "cell_type": "markdown",
   "metadata": {},
   "source": [
    "# Machine Learning Engineer Nanodegree\n",
    "## Capstone Proposal\n",
    "Ahmet Hamza Emra\n",
    "\n",
    "\n",
    "July 27st, 2017\n"
   ]
  },
  {
   "cell_type": "markdown",
   "metadata": {},
   "source": [
    "\n",
    "## Proposal\n",
    "\n",
    "\n",
    "### Domain Background\n",
    "\n",
    "Natural language processing (NLP) is a field of computer science, artificial intelligence and computational linguistics concerned with the interactions between computers and human (natural) languages, and, in particular, concerned with programming computers to fruitfully process large natural language corpora. Challenges in natural language processing frequently involve natural language understanding, natural language generation (frequently from formal, machine-readable logical forms), connecting language and machine perception, dialog systems, or some combination thereof.\n",
    "\n",
    "\n"
   ]
  },
  {
   "cell_type": "markdown",
   "metadata": {},
   "source": [
    "\n",
    "### Problem Statemen\n",
    "\n",
    "A lot has been said during the past several years about how precision medicine and, more concretely, how genetic testing is going to disrupt the way diseases like cancer are treated.\n",
    "But this is only partially happening due to the huge amount of manual work still required. \n",
    "Once sequenced, a cancer tumor can have thousands of genetic mutations. But the challenge is distinguishing the mutations that contribute to tumor growth (drivers) from the neutral mutations (passengers). \n",
    "\n",
    "Currently this interpretation of genetic mutations is being done manually. This is a very time-consuming task where a clinical pathologist has to manually review and classify every single genetic mutation based on evidence from text-based clinical literature.\n",
    "MSKCC (Memorial Sloan Kettering Cancer Center) is making available an expert-annotated knowledge base where world-class researchers and oncologists have manually annotated thousands of mutations.\n",
    "\n",
    "We need to develop a Machine Learning algorithm that, using this knowledge base as a baseline, automatically classifies genetic variations."
   ]
  },
  {
   "cell_type": "markdown",
   "metadata": {},
   "source": [
    "### Datasets and Inputs\n",
    "\n",
    "training_variants - a comma separated file containing the description of the genetic mutations used for training. Fields are ID (the id of the row used to link the mutation to the clinical evidence), Gene (the gene where this genetic mutation is located) , Variation (the aminoacid change for this mutations), Class (1-9 the class this genetic mutation has been classified on). Gene and Variation might be important and we need to consider them in our study. Hard to tell before the EDA.\n",
    "\n",
    "training_text - a double pipe (||) delimited file that contains the clinical evidence (text) used to classify genetic mutations which is writen by the experts of this area. Fields are ID (the id of the row used to link the clinical evidence to the genetic mutation), Text (the clinical evidence used to classify the genetic mutation)"
   ]
  },
  {
   "cell_type": "markdown",
   "metadata": {},
   "source": [
    "### Solution Statement\n",
    "\n",
    "Our goal is classify the class of genetic mutation, So we will use supervised learning approach to solve this problem. We belive text from experts has very valuable information so we will try to find the words that are key to classify the class. Ones we transfer text data to some kind of number or vector we will try to combine them with gene and variation variable then fit them to Classification algorithm.\n"
   ]
  },
  {
   "cell_type": "markdown",
   "metadata": {},
   "source": [
    "\n",
    "### Benchmark Model\n",
    "\n",
    "We will be comparing our predictions with the alctual values that are provied in the training data. \n"
   ]
  },
  {
   "cell_type": "markdown",
   "metadata": {},
   "source": [
    "### Evaluation Metrics\n",
    "\n",
    "\n",
    "We are going to be using the accuracy score to mesure the performance of our model. Since it is classification problem, accuracy is suitably.\n",
    "    <img src=\"cd4bea15b385d15cceb8e24f68976da7d8510290.png\">\n",
    "    \n",
    "which is basically Percentage of how may predictions are correct."
   ]
  },
  {
   "cell_type": "markdown",
   "metadata": {},
   "source": [
    "### Project Design\n",
    "\n",
    "I will be following this steps in order to solve this problem.\n",
    "\n",
    "1. EDA for Gene and Variation to check if there is new and usefull feature\n",
    "2. Text processing\n",
    "    * Count vectorization to convert texts into vectors. \n",
    "    * Tfidf transformer in order to find term frequency or inverse term frequency. we will be checking both of them to find optimal one.\n",
    "3. Classification, we are going to check coupe algorithm(Naive bayes, Logistic Regression and some ensamble models) to find the best score.\n",
    "4. Concussion with performance metrics."
   ]
  },
  {
   "cell_type": "markdown",
   "metadata": {},
   "source": [
    "\n",
    "\n",
    "**Before submitting your proposal, ask yourself. . .**\n",
    "\n",
    "- Does the proposal you have written follow a well-organized structure similar to that of the project template?\n",
    "- Is each section (particularly **Solution Statement** and **Project Design**) written in a clear, concise and specific fashion? Are there any ambiguous terms or phrases that need clarification?\n",
    "- Would the intended audience of your project be able to understand your proposal?\n",
    "- Have you properly proofread your proposal to assure there are minimal grammatical and spelling mistakes?\n",
    "- Are all the resources used for this project correctly cited and referenced?\n",
    "\n",
    "\n"
   ]
  }
 ],
 "metadata": {
  "kernelspec": {
   "display_name": "Python 3",
   "language": "python",
   "name": "python3"
  },
  "language_info": {
   "codemirror_mode": {
    "name": "ipython",
    "version": 3
   },
   "file_extension": ".py",
   "mimetype": "text/x-python",
   "name": "python",
   "nbconvert_exporter": "python",
   "pygments_lexer": "ipython3",
   "version": "3.6.0"
  }
 },
 "nbformat": 4,
 "nbformat_minor": 2
}
