{
 "cells": [
  {
   "cell_type": "code",
   "execution_count": 1,
   "metadata": {
    "collapsed": false
   },
   "outputs": [],
   "source": [
    "# %load PCA.py\n",
    "%matplotlib inline\n",
    "import pandas as pd\n",
    "import numpy as np\n",
    "import re\n",
    "import os\n",
    "import nltk\n",
    "from nltk.stem.snowball import SnowballStemmer\n",
    "from nltk.corpus import stopwords\n",
    "from sklearn.feature_extraction.text import CountVectorizer, TfidfTransformer\n",
    "import matplotlib.pyplot as plt\n",
    "from mpl_toolkits.mplot3d import Axes3D\n",
    "\n",
    "\n"
   ]
  },
  {
   "cell_type": "code",
   "execution_count": 2,
   "metadata": {
    "collapsed": false
   },
   "outputs": [
    {
     "name": "stdout",
     "output_type": "stream",
     "text": [
      "Train Variant   (3321, 4)\n",
      "Train Text      (3321, 2)\n"
     ]
    }
   ],
   "source": [
    "train = pd.read_csv(\"training_variants\")\n",
    "train_text = pd.read_csv(\"training_text\", sep=\"\\|\\|\", engine=\"python\", skiprows=1, names=[\"ID\", \"Text\"])\n",
    "print(\"Train Variant\".ljust(15), train.shape)\n",
    "print(\"Train Text\".ljust(15), train_text.shape)"
   ]
  },
  {
   "cell_type": "markdown",
   "metadata": {},
   "source": [
    "## EDA for Gene and Variation"
   ]
  },
  {
   "cell_type": "code",
   "execution_count": 3,
   "metadata": {
    "collapsed": false
   },
   "outputs": [
    {
     "data": {
      "text/html": [
       "<div>\n",
       "<table border=\"1\" class=\"dataframe\">\n",
       "  <thead>\n",
       "    <tr style=\"text-align: right;\">\n",
       "      <th></th>\n",
       "      <th>ID</th>\n",
       "      <th>Gene</th>\n",
       "      <th>Variation</th>\n",
       "      <th>Class</th>\n",
       "    </tr>\n",
       "  </thead>\n",
       "  <tbody>\n",
       "    <tr>\n",
       "      <th>0</th>\n",
       "      <td>0</td>\n",
       "      <td>FAM58A</td>\n",
       "      <td>Truncating Mutations</td>\n",
       "      <td>1</td>\n",
       "    </tr>\n",
       "    <tr>\n",
       "      <th>1</th>\n",
       "      <td>1</td>\n",
       "      <td>CBL</td>\n",
       "      <td>W802*</td>\n",
       "      <td>2</td>\n",
       "    </tr>\n",
       "    <tr>\n",
       "      <th>2</th>\n",
       "      <td>2</td>\n",
       "      <td>CBL</td>\n",
       "      <td>Q249E</td>\n",
       "      <td>2</td>\n",
       "    </tr>\n",
       "    <tr>\n",
       "      <th>3</th>\n",
       "      <td>3</td>\n",
       "      <td>CBL</td>\n",
       "      <td>N454D</td>\n",
       "      <td>3</td>\n",
       "    </tr>\n",
       "    <tr>\n",
       "      <th>4</th>\n",
       "      <td>4</td>\n",
       "      <td>CBL</td>\n",
       "      <td>L399V</td>\n",
       "      <td>4</td>\n",
       "    </tr>\n",
       "  </tbody>\n",
       "</table>\n",
       "</div>"
      ],
      "text/plain": [
       "   ID    Gene             Variation  Class\n",
       "0   0  FAM58A  Truncating Mutations      1\n",
       "1   1     CBL                 W802*      2\n",
       "2   2     CBL                 Q249E      2\n",
       "3   3     CBL                 N454D      3\n",
       "4   4     CBL                 L399V      4"
      ]
     },
     "execution_count": 3,
     "metadata": {},
     "output_type": "execute_result"
    }
   ],
   "source": [
    "train.head()"
   ]
  },
  {
   "cell_type": "code",
   "execution_count": 4,
   "metadata": {
    "collapsed": false
   },
   "outputs": [
    {
     "data": {
      "text/plain": [
       "ID           0\n",
       "Gene         0\n",
       "Variation    0\n",
       "Class        0\n",
       "dtype: int64"
      ]
     },
     "execution_count": 4,
     "metadata": {},
     "output_type": "execute_result"
    }
   ],
   "source": [
    "train.isnull().sum() # check if there is missing data"
   ]
  },
  {
   "cell_type": "code",
   "execution_count": 5,
   "metadata": {
    "collapsed": false,
    "scrolled": true
   },
   "outputs": [
    {
     "data": {
      "text/plain": [
       "ID      0\n",
       "Text    0\n",
       "dtype: int64"
      ]
     },
     "execution_count": 5,
     "metadata": {},
     "output_type": "execute_result"
    }
   ],
   "source": [
    "train_text.isnull().sum() # check if there is missing data"
   ]
  },
  {
   "cell_type": "markdown",
   "metadata": {},
   "source": [
    "we dont have any mising data in dataset"
   ]
  },
  {
   "cell_type": "code",
   "execution_count": 6,
   "metadata": {
    "collapsed": false
   },
   "outputs": [
    {
     "name": "stdout",
     "output_type": "stream",
     "text": [
      "Count of unique train Genes 264\n",
      "Count of unique train Variation 2996\n"
     ]
    }
   ],
   "source": [
    "# Unique ones\n",
    "print('Count of unique train Genes',len(train.Gene.unique()))\n",
    "print('Count of unique train Variation',len(train.Variation.unique()))\n"
   ]
  },
  {
   "cell_type": "markdown",
   "metadata": {},
   "source": [
    "For Variation there are 2996 unique values in total of 3321 data. So it is hard to think direct correlation between them\n",
    "\n"
   ]
  },
  {
   "cell_type": "code",
   "execution_count": 7,
   "metadata": {
    "collapsed": false
   },
   "outputs": [
    {
     "data": {
      "text/plain": [
       "Gene\n",
       "BRCA1    264\n",
       "TP53     163\n",
       "EGFR     141\n",
       "PTEN     126\n",
       "BRCA2    125\n",
       "Name: ID, dtype: int64"
      ]
     },
     "execution_count": 7,
     "metadata": {},
     "output_type": "execute_result"
    }
   ],
   "source": [
    "train.groupby('Gene').ID.count().sort_values(ascending=False).head()"
   ]
  },
  {
   "cell_type": "code",
   "execution_count": 8,
   "metadata": {
    "collapsed": false
   },
   "outputs": [
    {
     "data": {
      "text/plain": [
       "Variation\n",
       "Truncating Mutations    93\n",
       "Deletion                74\n",
       "Amplification           71\n",
       "Fusions                 34\n",
       "Overexpression           6\n",
       "Name: ID, dtype: int64"
      ]
     },
     "execution_count": 8,
     "metadata": {},
     "output_type": "execute_result"
    }
   ],
   "source": [
    "train.groupby('Variation').ID.count().sort_values(ascending=False).head()"
   ]
  },
  {
   "cell_type": "code",
   "execution_count": 9,
   "metadata": {
    "collapsed": false
   },
   "outputs": [
    {
     "data": {
      "text/plain": [
       "<matplotlib.axes._subplots.AxesSubplot at 0x11f5689b0>"
      ]
     },
     "execution_count": 9,
     "metadata": {},
     "output_type": "execute_result"
    },
    {
     "data": {
      "image/png": "[encoded data removed]",
      "text/plain": [
       "<matplotlib.figure.Figure at 0x11f571f98>"
      ]
     },
     "metadata": {},
     "output_type": "display_data"
    }
   ],
   "source": [
    "%matplotlib inline\n",
    "df=(train.Gene.value_counts(normalize=True)*100)\n",
    "df[df>1].plot(kind='barh',title='% of GENES in training set')"
   ]
  },
  {
   "cell_type": "code",
   "execution_count": 10,
   "metadata": {
    "collapsed": false
   },
   "outputs": [
    {
     "data": {
      "text/plain": [
       "<matplotlib.axes._subplots.AxesSubplot at 0x11d8f8400>"
      ]
     },
     "execution_count": 10,
     "metadata": {},
     "output_type": "execute_result"
    },
    {
     "data": {
      "image/png": "[encoded data removed]",
      "text/plain": [
       "<matplotlib.figure.Figure at 0x11d2eae48>"
      ]
     },
     "metadata": {},
     "output_type": "display_data"
    }
   ],
   "source": [
    "train.Class.value_counts(normalize=True).plot(kind='bar',title='Class distribution in train set')"
   ]
  },
  {
   "cell_type": "markdown",
   "metadata": {},
   "source": [
    "Observation\n",
    "* Class levels 3, 8, and 9 are notably under-represented\n",
    "* Levels 5 and 6 are of comparable, medium-low frequency\n",
    "* Levels 1, 2, and 4 are of comparable, medium-high frequency\n",
    "* Level 7 is clearly the most frequent one"
   ]
  },
  {
   "cell_type": "markdown",
   "metadata": {},
   "source": [
    "# Preprocess"
   ]
  },
  {
   "cell_type": "markdown",
   "metadata": {},
   "source": [
    "## text cleaning "
   ]
  },
  {
   "cell_type": "code",
   "execution_count": 11,
   "metadata": {
    "collapsed": true
   },
   "outputs": [],
   "source": [
    "stemmer=SnowballStemmer(\"english\") # stemmer function from nltk library\n",
    "stop = set(stopwords.words('english')) # also stop words from nltk \n",
    "def clean_the_text(text):\n",
    "    \n",
    "    tokens= nltk.word_tokenize(text) # Tokanize the text \n",
    "    affterstemmer=[]\n",
    "    for word in tokens: # stemm all words with Snowball stemmer one by one\n",
    "        affterstemmer.append(stemmer.stem(word))\n",
    "    \n",
    "    afterstop=[]\n",
    "    for word in affterstemmer: # check all words if they are stop word\n",
    "        if word not in stop:\n",
    "            afterstop.append(word)\n",
    "    return \" \".join(afterstop) # bond all words and return it\n"
   ]
  },
  {
   "cell_type": "code",
   "execution_count": 12,
   "metadata": {
    "collapsed": true
   },
   "outputs": [],
   "source": [
    "clean_text=[]\n",
    "for i in train_text['Text']:\n",
    "    clean_text.append(clean_the_text(i))"
   ]
  },
  {
   "cell_type": "code",
   "execution_count": 13,
   "metadata": {
    "collapsed": true
   },
   "outputs": [],
   "source": [
    "# CountVectorizer to vectorize the text data\n",
    "# we will be analyzing 100 words\n",
    "count_vect = CountVectorizer(lowercase = True, max_features=100,analyzer='word')\n",
    "\n",
    "tfidf_transformer = TfidfTransformer(use_idf=False)\n",
    "\n",
    "X_train_counts = count_vect.fit_transform(clean_text)\n",
    "\n",
    "X_train_tfidf = tfidf_transformer.fit_transform(X_train_counts)\n",
    "\n",
    "\n",
    "\n"
   ]
  },
  {
   "cell_type": "code",
   "execution_count": 14,
   "metadata": {
    "collapsed": false
   },
   "outputs": [
    {
     "data": {
      "text/html": [
       "<div>\n",
       "<table border=\"1\" class=\"dataframe\">\n",
       "  <thead>\n",
       "    <tr style=\"text-align: right;\">\n",
       "      <th></th>\n",
       "      <th>0</th>\n",
       "      <th>1</th>\n",
       "      <th>2</th>\n",
       "      <th>3</th>\n",
       "      <th>4</th>\n",
       "      <th>5</th>\n",
       "      <th>6</th>\n",
       "      <th>7</th>\n",
       "      <th>8</th>\n",
       "      <th>9</th>\n",
       "      <th>...</th>\n",
       "      <th>92</th>\n",
       "      <th>93</th>\n",
       "      <th>94</th>\n",
       "      <th>95</th>\n",
       "      <th>96</th>\n",
       "      <th>97</th>\n",
       "      <th>98</th>\n",
       "      <th>99</th>\n",
       "      <th>Variation</th>\n",
       "      <th>Gene</th>\n",
       "    </tr>\n",
       "  </thead>\n",
       "  <tbody>\n",
       "    <tr>\n",
       "      <th>0</th>\n",
       "      <td>0.106330</td>\n",
       "      <td>0.044770</td>\n",
       "      <td>0.033578</td>\n",
       "      <td>0.111926</td>\n",
       "      <td>0.016789</td>\n",
       "      <td>0.000000</td>\n",
       "      <td>0.061559</td>\n",
       "      <td>0.095137</td>\n",
       "      <td>0.072752</td>\n",
       "      <td>0.033578</td>\n",
       "      <td>...</td>\n",
       "      <td>0.005596</td>\n",
       "      <td>0.022385</td>\n",
       "      <td>0.072752</td>\n",
       "      <td>0.011193</td>\n",
       "      <td>0.016789</td>\n",
       "      <td>0.100733</td>\n",
       "      <td>0.000000</td>\n",
       "      <td>0.016789</td>\n",
       "      <td>Truncating Mutations</td>\n",
       "      <td>FAM58A</td>\n",
       "    </tr>\n",
       "    <tr>\n",
       "      <th>1</th>\n",
       "      <td>0.087115</td>\n",
       "      <td>0.046120</td>\n",
       "      <td>0.005124</td>\n",
       "      <td>0.117862</td>\n",
       "      <td>0.061493</td>\n",
       "      <td>0.005124</td>\n",
       "      <td>0.107613</td>\n",
       "      <td>0.066618</td>\n",
       "      <td>0.025622</td>\n",
       "      <td>0.030747</td>\n",
       "      <td>...</td>\n",
       "      <td>0.005124</td>\n",
       "      <td>0.112738</td>\n",
       "      <td>0.030747</td>\n",
       "      <td>0.035871</td>\n",
       "      <td>0.015373</td>\n",
       "      <td>0.148609</td>\n",
       "      <td>0.000000</td>\n",
       "      <td>0.035871</td>\n",
       "      <td>W802*</td>\n",
       "      <td>CBL</td>\n",
       "    </tr>\n",
       "    <tr>\n",
       "      <th>2</th>\n",
       "      <td>0.087115</td>\n",
       "      <td>0.046120</td>\n",
       "      <td>0.005124</td>\n",
       "      <td>0.117862</td>\n",
       "      <td>0.061493</td>\n",
       "      <td>0.005124</td>\n",
       "      <td>0.107613</td>\n",
       "      <td>0.066618</td>\n",
       "      <td>0.025622</td>\n",
       "      <td>0.030747</td>\n",
       "      <td>...</td>\n",
       "      <td>0.005124</td>\n",
       "      <td>0.112738</td>\n",
       "      <td>0.030747</td>\n",
       "      <td>0.035871</td>\n",
       "      <td>0.015373</td>\n",
       "      <td>0.148609</td>\n",
       "      <td>0.000000</td>\n",
       "      <td>0.035871</td>\n",
       "      <td>Q249E</td>\n",
       "      <td>CBL</td>\n",
       "    </tr>\n",
       "    <tr>\n",
       "      <th>3</th>\n",
       "      <td>0.118540</td>\n",
       "      <td>0.062092</td>\n",
       "      <td>0.016934</td>\n",
       "      <td>0.129830</td>\n",
       "      <td>0.022579</td>\n",
       "      <td>0.000000</td>\n",
       "      <td>0.062092</td>\n",
       "      <td>0.163698</td>\n",
       "      <td>0.050803</td>\n",
       "      <td>0.107251</td>\n",
       "      <td>...</td>\n",
       "      <td>0.000000</td>\n",
       "      <td>0.000000</td>\n",
       "      <td>0.005645</td>\n",
       "      <td>0.090316</td>\n",
       "      <td>0.000000</td>\n",
       "      <td>0.090316</td>\n",
       "      <td>0.073382</td>\n",
       "      <td>0.090316</td>\n",
       "      <td>N454D</td>\n",
       "      <td>CBL</td>\n",
       "    </tr>\n",
       "    <tr>\n",
       "      <th>4</th>\n",
       "      <td>0.053684</td>\n",
       "      <td>0.012389</td>\n",
       "      <td>0.012389</td>\n",
       "      <td>0.272548</td>\n",
       "      <td>0.016518</td>\n",
       "      <td>0.000000</td>\n",
       "      <td>0.033036</td>\n",
       "      <td>0.024777</td>\n",
       "      <td>0.012389</td>\n",
       "      <td>0.004130</td>\n",
       "      <td>...</td>\n",
       "      <td>0.000000</td>\n",
       "      <td>0.028907</td>\n",
       "      <td>0.041295</td>\n",
       "      <td>0.074331</td>\n",
       "      <td>0.024777</td>\n",
       "      <td>0.099108</td>\n",
       "      <td>0.008259</td>\n",
       "      <td>0.082590</td>\n",
       "      <td>L399V</td>\n",
       "      <td>CBL</td>\n",
       "    </tr>\n",
       "  </tbody>\n",
       "</table>\n",
       "<p>5 rows × 102 columns</p>\n",
       "</div>"
      ],
      "text/plain": [
       "          0         1         2         3         4         5         6  \\\n",
       "0  0.106330  0.044770  0.033578  0.111926  0.016789  0.000000  0.061559   \n",
       "1  0.087115  0.046120  0.005124  0.117862  0.061493  0.005124  0.107613   \n",
       "2  0.087115  0.046120  0.005124  0.117862  0.061493  0.005124  0.107613   \n",
       "3  0.118540  0.062092  0.016934  0.129830  0.022579  0.000000  0.062092   \n",
       "4  0.053684  0.012389  0.012389  0.272548  0.016518  0.000000  0.033036   \n",
       "\n",
       "          7         8         9   ...          92        93        94  \\\n",
       "0  0.095137  0.072752  0.033578   ...    0.005596  0.022385  0.072752   \n",
       "1  0.066618  0.025622  0.030747   ...    0.005124  0.112738  0.030747   \n",
       "2  0.066618  0.025622  0.030747   ...    0.005124  0.112738  0.030747   \n",
       "3  0.163698  0.050803  0.107251   ...    0.000000  0.000000  0.005645   \n",
       "4  0.024777  0.012389  0.004130   ...    0.000000  0.028907  0.041295   \n",
       "\n",
       "         95        96        97        98        99             Variation  \\\n",
       "0  0.011193  0.016789  0.100733  0.000000  0.016789  Truncating Mutations   \n",
       "1  0.035871  0.015373  0.148609  0.000000  0.035871                 W802*   \n",
       "2  0.035871  0.015373  0.148609  0.000000  0.035871                 Q249E   \n",
       "3  0.090316  0.000000  0.090316  0.073382  0.090316                 N454D   \n",
       "4  0.074331  0.024777  0.099108  0.008259  0.082590                 L399V   \n",
       "\n",
       "     Gene  \n",
       "0  FAM58A  \n",
       "1     CBL  \n",
       "2     CBL  \n",
       "3     CBL  \n",
       "4     CBL  \n",
       "\n",
       "[5 rows x 102 columns]"
      ]
     },
     "execution_count": 14,
     "metadata": {},
     "output_type": "execute_result"
    }
   ],
   "source": [
    "x = pd.DataFrame(data=X_train_tfidf.toarray())# create data frame to bond Gene and Variation together \n",
    "x['Variation'] = train['Variation']\n",
    "x['Gene']= train['Gene']\n",
    "x.head()"
   ]
  },
  {
   "cell_type": "code",
   "execution_count": 15,
   "metadata": {
    "collapsed": false
   },
   "outputs": [
    {
     "data": {
      "text/html": [
       "<div>\n",
       "<table border=\"1\" class=\"dataframe\">\n",
       "  <thead>\n",
       "    <tr style=\"text-align: right;\">\n",
       "      <th></th>\n",
       "      <th>0</th>\n",
       "      <th>1</th>\n",
       "      <th>2</th>\n",
       "      <th>3</th>\n",
       "      <th>4</th>\n",
       "      <th>5</th>\n",
       "      <th>6</th>\n",
       "      <th>7</th>\n",
       "      <th>8</th>\n",
       "      <th>9</th>\n",
       "      <th>...</th>\n",
       "      <th>92</th>\n",
       "      <th>93</th>\n",
       "      <th>94</th>\n",
       "      <th>95</th>\n",
       "      <th>96</th>\n",
       "      <th>97</th>\n",
       "      <th>98</th>\n",
       "      <th>99</th>\n",
       "      <th>Variation</th>\n",
       "      <th>Gene</th>\n",
       "    </tr>\n",
       "  </thead>\n",
       "  <tbody>\n",
       "    <tr>\n",
       "      <th>0</th>\n",
       "      <td>0.106330</td>\n",
       "      <td>0.044770</td>\n",
       "      <td>0.033578</td>\n",
       "      <td>0.111926</td>\n",
       "      <td>0.016789</td>\n",
       "      <td>0.000000</td>\n",
       "      <td>0.061559</td>\n",
       "      <td>0.095137</td>\n",
       "      <td>0.072752</td>\n",
       "      <td>0.033578</td>\n",
       "      <td>...</td>\n",
       "      <td>0.005596</td>\n",
       "      <td>0.022385</td>\n",
       "      <td>0.072752</td>\n",
       "      <td>0.011193</td>\n",
       "      <td>0.016789</td>\n",
       "      <td>0.100733</td>\n",
       "      <td>0.000000</td>\n",
       "      <td>0.016789</td>\n",
       "      <td>Truncating Mutations</td>\n",
       "      <td>85</td>\n",
       "    </tr>\n",
       "    <tr>\n",
       "      <th>1</th>\n",
       "      <td>0.087115</td>\n",
       "      <td>0.046120</td>\n",
       "      <td>0.005124</td>\n",
       "      <td>0.117862</td>\n",
       "      <td>0.061493</td>\n",
       "      <td>0.005124</td>\n",
       "      <td>0.107613</td>\n",
       "      <td>0.066618</td>\n",
       "      <td>0.025622</td>\n",
       "      <td>0.030747</td>\n",
       "      <td>...</td>\n",
       "      <td>0.005124</td>\n",
       "      <td>0.112738</td>\n",
       "      <td>0.030747</td>\n",
       "      <td>0.035871</td>\n",
       "      <td>0.015373</td>\n",
       "      <td>0.148609</td>\n",
       "      <td>0.000000</td>\n",
       "      <td>0.035871</td>\n",
       "      <td>W802*</td>\n",
       "      <td>39</td>\n",
       "    </tr>\n",
       "    <tr>\n",
       "      <th>2</th>\n",
       "      <td>0.087115</td>\n",
       "      <td>0.046120</td>\n",
       "      <td>0.005124</td>\n",
       "      <td>0.117862</td>\n",
       "      <td>0.061493</td>\n",
       "      <td>0.005124</td>\n",
       "      <td>0.107613</td>\n",
       "      <td>0.066618</td>\n",
       "      <td>0.025622</td>\n",
       "      <td>0.030747</td>\n",
       "      <td>...</td>\n",
       "      <td>0.005124</td>\n",
       "      <td>0.112738</td>\n",
       "      <td>0.030747</td>\n",
       "      <td>0.035871</td>\n",
       "      <td>0.015373</td>\n",
       "      <td>0.148609</td>\n",
       "      <td>0.000000</td>\n",
       "      <td>0.035871</td>\n",
       "      <td>Q249E</td>\n",
       "      <td>39</td>\n",
       "    </tr>\n",
       "    <tr>\n",
       "      <th>3</th>\n",
       "      <td>0.118540</td>\n",
       "      <td>0.062092</td>\n",
       "      <td>0.016934</td>\n",
       "      <td>0.129830</td>\n",
       "      <td>0.022579</td>\n",
       "      <td>0.000000</td>\n",
       "      <td>0.062092</td>\n",
       "      <td>0.163698</td>\n",
       "      <td>0.050803</td>\n",
       "      <td>0.107251</td>\n",
       "      <td>...</td>\n",
       "      <td>0.000000</td>\n",
       "      <td>0.000000</td>\n",
       "      <td>0.005645</td>\n",
       "      <td>0.090316</td>\n",
       "      <td>0.000000</td>\n",
       "      <td>0.090316</td>\n",
       "      <td>0.073382</td>\n",
       "      <td>0.090316</td>\n",
       "      <td>N454D</td>\n",
       "      <td>39</td>\n",
       "    </tr>\n",
       "    <tr>\n",
       "      <th>4</th>\n",
       "      <td>0.053684</td>\n",
       "      <td>0.012389</td>\n",
       "      <td>0.012389</td>\n",
       "      <td>0.272548</td>\n",
       "      <td>0.016518</td>\n",
       "      <td>0.000000</td>\n",
       "      <td>0.033036</td>\n",
       "      <td>0.024777</td>\n",
       "      <td>0.012389</td>\n",
       "      <td>0.004130</td>\n",
       "      <td>...</td>\n",
       "      <td>0.000000</td>\n",
       "      <td>0.028907</td>\n",
       "      <td>0.041295</td>\n",
       "      <td>0.074331</td>\n",
       "      <td>0.024777</td>\n",
       "      <td>0.099108</td>\n",
       "      <td>0.008259</td>\n",
       "      <td>0.082590</td>\n",
       "      <td>L399V</td>\n",
       "      <td>39</td>\n",
       "    </tr>\n",
       "  </tbody>\n",
       "</table>\n",
       "<p>5 rows × 102 columns</p>\n",
       "</div>"
      ],
      "text/plain": [
       "          0         1         2         3         4         5         6  \\\n",
       "0  0.106330  0.044770  0.033578  0.111926  0.016789  0.000000  0.061559   \n",
       "1  0.087115  0.046120  0.005124  0.117862  0.061493  0.005124  0.107613   \n",
       "2  0.087115  0.046120  0.005124  0.117862  0.061493  0.005124  0.107613   \n",
       "3  0.118540  0.062092  0.016934  0.129830  0.022579  0.000000  0.062092   \n",
       "4  0.053684  0.012389  0.012389  0.272548  0.016518  0.000000  0.033036   \n",
       "\n",
       "          7         8         9  ...         92        93        94        95  \\\n",
       "0  0.095137  0.072752  0.033578  ...   0.005596  0.022385  0.072752  0.011193   \n",
       "1  0.066618  0.025622  0.030747  ...   0.005124  0.112738  0.030747  0.035871   \n",
       "2  0.066618  0.025622  0.030747  ...   0.005124  0.112738  0.030747  0.035871   \n",
       "3  0.163698  0.050803  0.107251  ...   0.000000  0.000000  0.005645  0.090316   \n",
       "4  0.024777  0.012389  0.004130  ...   0.000000  0.028907  0.041295  0.074331   \n",
       "\n",
       "         96        97        98        99             Variation  Gene  \n",
       "0  0.016789  0.100733  0.000000  0.016789  Truncating Mutations    85  \n",
       "1  0.015373  0.148609  0.000000  0.035871                 W802*    39  \n",
       "2  0.015373  0.148609  0.000000  0.035871                 Q249E    39  \n",
       "3  0.000000  0.090316  0.073382  0.090316                 N454D    39  \n",
       "4  0.024777  0.099108  0.008259  0.082590                 L399V    39  \n",
       "\n",
       "[5 rows x 102 columns]"
      ]
     },
     "execution_count": 15,
     "metadata": {},
     "output_type": "execute_result"
    }
   ],
   "source": [
    "from sklearn.preprocessing import LabelEncoder # Encode labels with value between 0 and n_classes-1.\n",
    "encoder  = LabelEncoder()\n",
    "x['Gene'] = encoder.fit_transform(y=x['Gene'])\n",
    "\n",
    "x.head()"
   ]
  },
  {
   "cell_type": "code",
   "execution_count": 16,
   "metadata": {
    "collapsed": false
   },
   "outputs": [
    {
     "data": {
      "text/html": [
       "<div>\n",
       "<table border=\"1\" class=\"dataframe\">\n",
       "  <thead>\n",
       "    <tr style=\"text-align: right;\">\n",
       "      <th></th>\n",
       "      <th>0</th>\n",
       "      <th>1</th>\n",
       "      <th>2</th>\n",
       "      <th>3</th>\n",
       "      <th>4</th>\n",
       "      <th>5</th>\n",
       "      <th>6</th>\n",
       "      <th>7</th>\n",
       "      <th>8</th>\n",
       "      <th>9</th>\n",
       "      <th>...</th>\n",
       "      <th>92</th>\n",
       "      <th>93</th>\n",
       "      <th>94</th>\n",
       "      <th>95</th>\n",
       "      <th>96</th>\n",
       "      <th>97</th>\n",
       "      <th>98</th>\n",
       "      <th>99</th>\n",
       "      <th>Variation</th>\n",
       "      <th>Gene</th>\n",
       "    </tr>\n",
       "  </thead>\n",
       "  <tbody>\n",
       "    <tr>\n",
       "      <th>0</th>\n",
       "      <td>0.106330</td>\n",
       "      <td>0.044770</td>\n",
       "      <td>0.033578</td>\n",
       "      <td>0.111926</td>\n",
       "      <td>0.016789</td>\n",
       "      <td>0.000000</td>\n",
       "      <td>0.061559</td>\n",
       "      <td>0.095137</td>\n",
       "      <td>0.072752</td>\n",
       "      <td>0.033578</td>\n",
       "      <td>...</td>\n",
       "      <td>0.005596</td>\n",
       "      <td>0.022385</td>\n",
       "      <td>0.072752</td>\n",
       "      <td>0.011193</td>\n",
       "      <td>0.016789</td>\n",
       "      <td>0.100733</td>\n",
       "      <td>0.000000</td>\n",
       "      <td>0.016789</td>\n",
       "      <td>2629</td>\n",
       "      <td>85</td>\n",
       "    </tr>\n",
       "    <tr>\n",
       "      <th>1</th>\n",
       "      <td>0.087115</td>\n",
       "      <td>0.046120</td>\n",
       "      <td>0.005124</td>\n",
       "      <td>0.117862</td>\n",
       "      <td>0.061493</td>\n",
       "      <td>0.005124</td>\n",
       "      <td>0.107613</td>\n",
       "      <td>0.066618</td>\n",
       "      <td>0.025622</td>\n",
       "      <td>0.030747</td>\n",
       "      <td>...</td>\n",
       "      <td>0.005124</td>\n",
       "      <td>0.112738</td>\n",
       "      <td>0.030747</td>\n",
       "      <td>0.035871</td>\n",
       "      <td>0.015373</td>\n",
       "      <td>0.148609</td>\n",
       "      <td>0.000000</td>\n",
       "      <td>0.035871</td>\n",
       "      <td>2856</td>\n",
       "      <td>39</td>\n",
       "    </tr>\n",
       "    <tr>\n",
       "      <th>2</th>\n",
       "      <td>0.087115</td>\n",
       "      <td>0.046120</td>\n",
       "      <td>0.005124</td>\n",
       "      <td>0.117862</td>\n",
       "      <td>0.061493</td>\n",
       "      <td>0.005124</td>\n",
       "      <td>0.107613</td>\n",
       "      <td>0.066618</td>\n",
       "      <td>0.025622</td>\n",
       "      <td>0.030747</td>\n",
       "      <td>...</td>\n",
       "      <td>0.005124</td>\n",
       "      <td>0.112738</td>\n",
       "      <td>0.030747</td>\n",
       "      <td>0.035871</td>\n",
       "      <td>0.015373</td>\n",
       "      <td>0.148609</td>\n",
       "      <td>0.000000</td>\n",
       "      <td>0.035871</td>\n",
       "      <td>1897</td>\n",
       "      <td>39</td>\n",
       "    </tr>\n",
       "    <tr>\n",
       "      <th>3</th>\n",
       "      <td>0.118540</td>\n",
       "      <td>0.062092</td>\n",
       "      <td>0.016934</td>\n",
       "      <td>0.129830</td>\n",
       "      <td>0.022579</td>\n",
       "      <td>0.000000</td>\n",
       "      <td>0.062092</td>\n",
       "      <td>0.163698</td>\n",
       "      <td>0.050803</td>\n",
       "      <td>0.107251</td>\n",
       "      <td>...</td>\n",
       "      <td>0.000000</td>\n",
       "      <td>0.000000</td>\n",
       "      <td>0.005645</td>\n",
       "      <td>0.090316</td>\n",
       "      <td>0.000000</td>\n",
       "      <td>0.090316</td>\n",
       "      <td>0.073382</td>\n",
       "      <td>0.090316</td>\n",
       "      <td>1667</td>\n",
       "      <td>39</td>\n",
       "    </tr>\n",
       "    <tr>\n",
       "      <th>4</th>\n",
       "      <td>0.053684</td>\n",
       "      <td>0.012389</td>\n",
       "      <td>0.012389</td>\n",
       "      <td>0.272548</td>\n",
       "      <td>0.016518</td>\n",
       "      <td>0.000000</td>\n",
       "      <td>0.033036</td>\n",
       "      <td>0.024777</td>\n",
       "      <td>0.012389</td>\n",
       "      <td>0.004130</td>\n",
       "      <td>...</td>\n",
       "      <td>0.000000</td>\n",
       "      <td>0.028907</td>\n",
       "      <td>0.041295</td>\n",
       "      <td>0.074331</td>\n",
       "      <td>0.024777</td>\n",
       "      <td>0.099108</td>\n",
       "      <td>0.008259</td>\n",
       "      <td>0.082590</td>\n",
       "      <td>1447</td>\n",
       "      <td>39</td>\n",
       "    </tr>\n",
       "  </tbody>\n",
       "</table>\n",
       "<p>5 rows × 102 columns</p>\n",
       "</div>"
      ],
      "text/plain": [
       "          0         1         2         3         4         5         6  \\\n",
       "0  0.106330  0.044770  0.033578  0.111926  0.016789  0.000000  0.061559   \n",
       "1  0.087115  0.046120  0.005124  0.117862  0.061493  0.005124  0.107613   \n",
       "2  0.087115  0.046120  0.005124  0.117862  0.061493  0.005124  0.107613   \n",
       "3  0.118540  0.062092  0.016934  0.129830  0.022579  0.000000  0.062092   \n",
       "4  0.053684  0.012389  0.012389  0.272548  0.016518  0.000000  0.033036   \n",
       "\n",
       "          7         8         9  ...         92        93        94        95  \\\n",
       "0  0.095137  0.072752  0.033578  ...   0.005596  0.022385  0.072752  0.011193   \n",
       "1  0.066618  0.025622  0.030747  ...   0.005124  0.112738  0.030747  0.035871   \n",
       "2  0.066618  0.025622  0.030747  ...   0.005124  0.112738  0.030747  0.035871   \n",
       "3  0.163698  0.050803  0.107251  ...   0.000000  0.000000  0.005645  0.090316   \n",
       "4  0.024777  0.012389  0.004130  ...   0.000000  0.028907  0.041295  0.074331   \n",
       "\n",
       "         96        97        98        99  Variation  Gene  \n",
       "0  0.016789  0.100733  0.000000  0.016789       2629    85  \n",
       "1  0.015373  0.148609  0.000000  0.035871       2856    39  \n",
       "2  0.015373  0.148609  0.000000  0.035871       1897    39  \n",
       "3  0.000000  0.090316  0.073382  0.090316       1667    39  \n",
       "4  0.024777  0.099108  0.008259  0.082590       1447    39  \n",
       "\n",
       "[5 rows x 102 columns]"
      ]
     },
     "execution_count": 16,
     "metadata": {},
     "output_type": "execute_result"
    }
   ],
   "source": [
    "from sklearn.preprocessing import LabelEncoder # Encode labels with value between 0 and n_classes-1.\n",
    "encoder  = LabelEncoder()\n",
    "x['Variation'] = encoder.fit_transform(y=x['Variation'])\n",
    "\n",
    "x.head()"
   ]
  },
  {
   "cell_type": "code",
   "execution_count": 17,
   "metadata": {
    "collapsed": true
   },
   "outputs": [],
   "source": [
    "# creating saperate train and test to create not bias enviroment. \n",
    "# train set will be used in training model \n",
    "# test set is for evaluating our model\n",
    "\n",
    "from sklearn.model_selection import train_test_split\n",
    "\n",
    "x_train, x_test, y_train, y_test = train_test_split(x, train['Class'], test_size = .25, random_state = 32)"
   ]
  },
  {
   "cell_type": "markdown",
   "metadata": {},
   "source": [
    "# Creating the ML model"
   ]
  },
  {
   "cell_type": "code",
   "execution_count": 18,
   "metadata": {
    "collapsed": false
   },
   "outputs": [],
   "source": [
    "from sklearn.metrics import accuracy_score # our evaluation function \n",
    "\n",
    "# importing our machine larning models(algorithms)\n",
    "from sklearn.naive_bayes import GaussianNB\n",
    "from sklearn.linear_model import LogisticRegression\n",
    "from sklearn.ensemble import AdaBoostClassifier\n",
    "from sklearn.ensemble import GradientBoostingClassifier\n",
    "from sklearn.svm import SVC\n"
   ]
  },
  {
   "cell_type": "markdown",
   "metadata": {},
   "source": [
    "## testing the algorithms"
   ]
  },
  {
   "cell_type": "code",
   "execution_count": 19,
   "metadata": {
    "collapsed": false
   },
   "outputs": [
    {
     "name": "stdout",
     "output_type": "stream",
     "text": [
      "0.405535499398\n"
     ]
    }
   ],
   "source": [
    "clf1 = GaussianNB()\n",
    "clf1.fit(x_train, y_train)\n",
    "pred1 = clf1.predict(x_test)\n",
    "print(accuracy_score(y_test,pred1))\n"
   ]
  },
  {
   "cell_type": "code",
   "execution_count": 20,
   "metadata": {
    "collapsed": false
   },
   "outputs": [
    {
     "name": "stdout",
     "output_type": "stream",
     "text": [
      "0.494584837545\n"
     ]
    }
   ],
   "source": [
    "clf2 = LogisticRegression()\n",
    "clf2.fit(x_train, y_train)\n",
    "pred2 = clf2.predict(x_test)\n",
    "print(accuracy_score(y_test,pred2))"
   ]
  },
  {
   "cell_type": "code",
   "execution_count": 21,
   "metadata": {
    "collapsed": false
   },
   "outputs": [
    {
     "name": "stdout",
     "output_type": "stream",
     "text": [
      "0.389891696751\n"
     ]
    }
   ],
   "source": [
    "clf3 = AdaBoostClassifier()\n",
    "clf3.fit(x_train, y_train)\n",
    "pred3 = clf3.predict(x_test)\n",
    "print(accuracy_score(y_test,pred3))"
   ]
  },
  {
   "cell_type": "code",
   "execution_count": 22,
   "metadata": {
    "collapsed": false
   },
   "outputs": [
    {
     "name": "stdout",
     "output_type": "stream",
     "text": [
      "0.635379061372\n"
     ]
    }
   ],
   "source": [
    "clf4 = GradientBoostingClassifier()\n",
    "clf4.fit(x_train, y_train)\n",
    "pred4 = clf4.predict(x_test)\n",
    "print(accuracy_score(y_test,pred4))"
   ]
  },
  {
   "cell_type": "code",
   "execution_count": 23,
   "metadata": {
    "collapsed": true
   },
   "outputs": [],
   "source": [
    "import xgboost as xgb"
   ]
  },
  {
   "cell_type": "code",
   "execution_count": 24,
   "metadata": {
    "collapsed": false
   },
   "outputs": [
    {
     "name": "stdout",
     "output_type": "stream",
     "text": [
      "0.634175691937\n"
     ]
    }
   ],
   "source": [
    "clf6 = xgb.XGBClassifier(max_depth=3, n_estimators=300, learning_rate=0.05)\n",
    "clf6.fit(x_train, y_train)\n",
    "pred6  = clf6.predict(x_test)\n",
    "print(accuracy_score(y_test,pred6))"
   ]
  },
  {
   "cell_type": "markdown",
   "metadata": {},
   "source": [
    "since clf4 (GradientBoostingClassifier) gives the highest accuracy, I decide to go with that one\n",
    "\n",
    "## tuning the algorithm"
   ]
  },
  {
   "cell_type": "code",
   "execution_count": 25,
   "metadata": {
    "collapsed": false
   },
   "outputs": [
    {
     "data": {
      "text/plain": [
       "GridSearchCV(cv=5, error_score='raise',\n",
       "       estimator=GradientBoostingClassifier(criterion='friedman_mse', init=None,\n",
       "              learning_rate=0.1, loss='deviance', max_depth=3,\n",
       "              max_features=None, max_leaf_nodes=None,\n",
       "              min_impurity_split=1e-07, min_samples_leaf=1,\n",
       "              min_samples_split=2, min_weight_fraction_leaf=0.0,\n",
       "              n_estimators=100, presort='auto', random_state=None,\n",
       "              subsample=1.0, verbose=0, warm_start=False),\n",
       "       fit_params={}, iid=True, n_jobs=1,\n",
       "       param_grid={'learning_rate': [0.001, 0.01, 0.1], 'n_estimators': [100, 200, 400], 'max_features': ['sqrt', 'log2', None]},\n",
       "       pre_dispatch='2*n_jobs', refit=True, return_train_score=True,\n",
       "       scoring=None, verbose=0)"
      ]
     },
     "execution_count": 25,
     "metadata": {},
     "output_type": "execute_result"
    }
   ],
   "source": [
    "from sklearn.model_selection import GridSearchCV # Exhaustive search over specified parameter values for an estimator.\n",
    "\n",
    "clf = GradientBoostingClassifier() # classifier\n",
    "\n",
    "# defining parameters that we would like to check\n",
    "parameters = {'learning_rate':[0.001,0.01,0.1], \n",
    "              'n_estimators':[  100, 200, 400],\n",
    "             'max_features':['sqrt','log2', None]}\n",
    "\n",
    "grid = GridSearchCV(clf, parameters, cv=5) # grid search function with \n",
    "grid.fit(x_train, y_train)"
   ]
  },
  {
   "cell_type": "code",
   "execution_count": 26,
   "metadata": {
    "collapsed": false
   },
   "outputs": [
    {
     "data": {
      "text/plain": [
       "{'learning_rate': 0.1, 'max_features': 'log2', 'n_estimators': 400}"
      ]
     },
     "execution_count": 26,
     "metadata": {},
     "output_type": "execute_result"
    }
   ],
   "source": [
    "grid.best_params_"
   ]
  },
  {
   "cell_type": "code",
   "execution_count": 27,
   "metadata": {
    "collapsed": false
   },
   "outputs": [
    {
     "name": "stdout",
     "output_type": "stream",
     "text": [
      "0.636582430806\n"
     ]
    }
   ],
   "source": [
    "clf = grid.best_estimator_\n",
    "clf.fit(x_train, y_train)\n",
    "pred = clf.predict(x_test)\n",
    "print(accuracy_score(y_test,pred))"
   ]
  },
  {
   "cell_type": "markdown",
   "metadata": {
    "collapsed": true
   },
   "source": [
    "# Observations\n",
    "\n",
    "I was expecting higher accuracy score but unfortunately it seems hard with this process, at this point I would like to do one of this two things. \n",
    "\n",
    "1. Differnt Approach: if I can create differnt processing and create new features it might get a better outcome. but this process would take more time than other and outcome is not guaranted.\n",
    "2. Change system out come: in first approach, what i want to do is, create algorithm that can return the class. but since we are getting low accuracy I want to change the output to be probability of being any all classes.\n",
    "\n",
    "Since first one is not promising any better output, I decited to go with second option. \n"
   ]
  },
  {
   "cell_type": "code",
   "execution_count": 31,
   "metadata": {
    "collapsed": false
   },
   "outputs": [
    {
     "data": {
      "text/plain": [
       "array([  1.87318383e-03,   1.29825825e-04,   1.57163799e-05,\n",
       "         5.67927874e-04,   1.48845720e-03,   9.95820691e-01,\n",
       "         1.04047899e-04,   2.19333642e-08,   1.28430475e-07])"
      ]
     },
     "execution_count": 31,
     "metadata": {},
     "output_type": "execute_result"
    }
   ],
   "source": [
    "# return the predict Probability \n",
    "\n",
    "\n",
    "pred_prob = clf.predict_proba(x_test)\n",
    "\n",
    "pred_prob[0]"
   ]
  },
  {
   "cell_type": "code",
   "execution_count": null,
   "metadata": {
    "collapsed": true
   },
   "outputs": [],
   "source": []
  }
 ],
 "metadata": {
  "kernelspec": {
   "display_name": "Python 3",
   "language": "python",
   "name": "python3"
  },
  "language_info": {
   "codemirror_mode": {
    "name": "ipython",
    "version": 3
   },
   "file_extension": ".py",
   "mimetype": "text/x-python",
   "name": "python",
   "nbconvert_exporter": "python",
   "pygments_lexer": "ipython3",
   "version": "3.6.0"
  }
 },
 "nbformat": 4,
 "nbformat_minor": 2
}
